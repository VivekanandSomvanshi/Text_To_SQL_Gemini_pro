{
 "cells": [
  {
   "cell_type": "code",
   "execution_count": 4,
   "metadata": {},
   "outputs": [
    {
     "name": "stderr",
     "output_type": "stream",
     "text": [
      "c:\\Users\\somva\\Documents\\Work\\Foundational_Generative_AI\\Text_To_SQL_LLM_Gemini_PRO\\venv\\Lib\\site-packages\\tqdm\\auto.py:21: TqdmWarning: IProgress not found. Please update jupyter and ipywidgets. See https://ipywidgets.readthedocs.io/en/stable/user_install.html\n",
      "  from .autonotebook import tqdm as notebook_tqdm\n"
     ]
    }
   ],
   "source": [
    "from dotenv import load_dotenv\n",
    "load_dotenv() ## load all the environemnt variables\n",
    "\n",
    "import streamlit as st\n",
    "import os\n",
    "import sqlite3\n",
    "\n",
    "import google.generativeai as genai\n",
    "## Configure Genai Key\n",
    "\n",
    "genai.configure(api_key=os.getenv(\"GOOGLE_API_KEY\"))"
   ]
  },
  {
   "cell_type": "code",
   "execution_count": 2,
   "metadata": {},
   "outputs": [],
   "source": [
    "import sqlite3\n",
    "\n",
    "# Connect to a database (or create one if it doesn't exist)\n",
    "conn = sqlite3.connect('example_1.db')\n",
    "\n",
    "# Create a cursor object to interact with the database\n",
    "cursor = conn.cursor()\n",
    "\n",
    "# Create a table (if it doesn't exist)\n",
    "cursor.execute('''CREATE TABLE IF NOT EXISTS employees\n",
    "                  (id INTEGER PRIMARY KEY, \n",
    "                   name TEXT, \n",
    "                   age INTEGER, \n",
    "                   department TEXT)''')\n",
    "\n",
    "# Commit the changes\n",
    "conn.commit()\n",
    "\n",
    "# Close the connection\n",
    "conn.close()\n"
   ]
  },
  {
   "cell_type": "code",
   "execution_count": 3,
   "metadata": {},
   "outputs": [],
   "source": [
    "import sqlite3\n",
    "\n",
    "# Connect to the database\n",
    "conn = sqlite3.connect('example_1.db')\n",
    "\n",
    "# Create a cursor object\n",
    "cursor = conn.cursor()\n",
    "\n",
    "# Insert records\n",
    "cursor.execute(\"INSERT INTO employees (name, age, department) VALUES ('Alice', 30, 'HR')\")\n",
    "cursor.execute(\"INSERT INTO employees (name, age, department) VALUES ('Bob', 25, 'Engineering')\")\n",
    "cursor.execute(\"INSERT INTO employees (name, age, department) VALUES ('Charlie', 28, 'Marketing')\")\n",
    "cursor.execute(\"INSERT INTO employees (name, age, department) VALUES ('Ron', 26, 'IT')\")\n",
    "cursor.execute(\"INSERT INTO employees (name, age, department) VALUES ('John', 24, 'Finance')\")\n",
    "cursor.execute(\"INSERT INTO employees (name, age, department) VALUES ('Shon', 27, 'Logistics')\")\n",
    "\n",
    "# Commit the changes\n",
    "conn.commit()\n",
    "\n",
    "# Close the connection\n",
    "conn.close()\n"
   ]
  },
  {
   "cell_type": "code",
   "execution_count": 6,
   "metadata": {},
   "outputs": [],
   "source": [
    "\n",
    "# Define the input text\n",
    "input_text = [\"\"\"The 'employees' table has columns 'id', 'name', 'age', and 'department'. Generate a SQL query to show all employees in the 'HR' department.\n",
    "                    Generate a SQL query to show all employees in the 'employees' table where the 'department' column is 'HR' \"\"\"]"
   ]
  },
  {
   "cell_type": "code",
   "execution_count": 7,
   "metadata": {},
   "outputs": [
    {
     "name": "stdout",
     "output_type": "stream",
     "text": [
      "Generated SQL Query: ```sql\n",
      "SELECT *\n",
      "FROM employees\n",
      "WHERE department = 'HR';\n",
      "```\n",
      "\n"
     ]
    }
   ],
   "source": [
    "import google.generativeai as genai\n",
    "\n",
    "# Configure the API key\n",
    "# genai.configure(api_key='your-google-api-key')\n",
    "\n",
    "\n",
    "# Generate the SQL query using the LLM\n",
    "model = genai.GenerativeModel('gemini-1.5-flash')\n",
    "response = model.generate_content(input_text[0])\n",
    "\n",
    "# Assuming the LLM returns a SQL query\n",
    "sql_query = response.text  # This might be something like \"SELECT * FROM employees WHERE department = 'HR';\"\n",
    "\n",
    "print(\"Generated SQL Query:\", sql_query)\n"
   ]
  },
  {
   "cell_type": "code",
   "execution_count": 9,
   "metadata": {},
   "outputs": [
    {
     "name": "stdout",
     "output_type": "stream",
     "text": [
      "```sql\n",
      "SELECT *\n",
      "FROM employees\n",
      "WHERE department = 'HR';\n",
      "```\n",
      "\n"
     ]
    }
   ],
   "source": [
    "print(sql_query)"
   ]
  },
  {
   "cell_type": "code",
   "execution_count": 11,
   "metadata": {},
   "outputs": [],
   "source": [
    "# Remove the Markdown formatting\n",
    "sql_query_cleaned = sql_query.replace(\"```sql\", \"\").replace(\"```\", \"\").strip()\n",
    "\n",
    "# Now the query is clean and can be executed"
   ]
  },
  {
   "cell_type": "code",
   "execution_count": 13,
   "metadata": {},
   "outputs": [
    {
     "name": "stdout",
     "output_type": "stream",
     "text": [
      "(1, 'Alice', 30, 'HR')\n"
     ]
    }
   ],
   "source": [
    "import sqlite3\n",
    "\n",
    "# Connect to the database\n",
    "conn = sqlite3.connect('example_1.db')\n",
    "\n",
    "# Create a cursor object\n",
    "cursor = conn.cursor()\n",
    "\n",
    "# Execute the generated SQL query\n",
    "cursor.execute(sql_query_cleaned)\n",
    "\n",
    "# Fetch the results\n",
    "results = cursor.fetchall()\n",
    "\n",
    "# Display the results\n",
    "for row in results:\n",
    "    print(row)\n",
    "\n",
    "# Close the connection\n",
    "conn.close()\n"
   ]
  },
  {
   "cell_type": "code",
   "execution_count": null,
   "metadata": {},
   "outputs": [],
   "source": []
  },
  {
   "cell_type": "code",
   "execution_count": 14,
   "metadata": {},
   "outputs": [
    {
     "name": "stdout",
     "output_type": "stream",
     "text": [
      "Generated SQL Query: ```sql\n",
      "SELECT *\n",
      "FROM employees\n",
      "WHERE department = 'HR';\n",
      "```\n"
     ]
    }
   ],
   "source": [
    "input_text = \"\"\"\n",
    "The 'employees' table contains the following columns:\n",
    "- id: Integer, the employee ID\n",
    "- name: Text, the employee's name\n",
    "- age: Integer, the employee's age\n",
    "- department: Text, the employee's department\n",
    "\n",
    "Generate a SQL query to show all employees in the 'HR' department.\n",
    "\"\"\"\n",
    "response = model.generate_content([input_text])\n",
    "sql_query_1 = response.text\n",
    "\n",
    "print(\"Generated SQL Query:\", sql_query_1)"
   ]
  },
  {
   "cell_type": "code",
   "execution_count": 15,
   "metadata": {},
   "outputs": [
    {
     "data": {
      "text/plain": [
       "\"```sql\\nSELECT *\\nFROM employees\\nWHERE department = 'HR';\\n```\""
      ]
     },
     "execution_count": 15,
     "metadata": {},
     "output_type": "execute_result"
    }
   ],
   "source": [
    "sql_query_1"
   ]
  },
  {
   "cell_type": "code",
   "execution_count": 16,
   "metadata": {},
   "outputs": [],
   "source": [
    "# Remove the Markdown formatting\n",
    "sql_query_cleaned_1 = sql_query_1.replace(\"```sql\", \"\").replace(\"```\", \"\").strip()\n",
    "\n",
    "# Now the query is clean and can be executed"
   ]
  },
  {
   "cell_type": "code",
   "execution_count": 17,
   "metadata": {},
   "outputs": [
    {
     "data": {
      "text/plain": [
       "\"SELECT *\\nFROM employees\\nWHERE department = 'HR';\""
      ]
     },
     "execution_count": 17,
     "metadata": {},
     "output_type": "execute_result"
    }
   ],
   "source": [
    "sql_query_cleaned_1"
   ]
  },
  {
   "cell_type": "code",
   "execution_count": 18,
   "metadata": {},
   "outputs": [
    {
     "name": "stdout",
     "output_type": "stream",
     "text": [
      "(1, 'Alice', 30, 'HR')\n"
     ]
    }
   ],
   "source": [
    "import sqlite3\n",
    "\n",
    "# Connect to the database\n",
    "conn = sqlite3.connect('example_1.db')\n",
    "\n",
    "# Create a cursor object\n",
    "cursor = conn.cursor()\n",
    "\n",
    "# Execute the generated SQL query\n",
    "cursor.execute(sql_query_cleaned_1)\n",
    "\n",
    "# Fetch the results\n",
    "results = cursor.fetchall()\n",
    "\n",
    "# Display the results\n",
    "for row in results:\n",
    "    print(row)\n",
    "\n",
    "# Close the connection\n",
    "conn.close()\n"
   ]
  },
  {
   "cell_type": "code",
   "execution_count": 19,
   "metadata": {},
   "outputs": [
    {
     "name": "stdout",
     "output_type": "stream",
     "text": [
      "Generated SQL Query: ```sql\n",
      "SELECT *\n",
      "FROM employees\n",
      "WHERE department = 'Engineering';\n",
      "```\n"
     ]
    }
   ],
   "source": [
    "input_text = \"\"\"\n",
    "The 'employees' table contains the following columns:\n",
    "- id: Integer, the employee ID\n",
    "- name: Text, the employee's name\n",
    "- age: Integer, the employee's age\n",
    "- department: Text, the employee's department\n",
    "\n",
    "Generate a SQL query to show all employees in the 'Engineering' department.\n",
    "\"\"\"\n",
    "response = model.generate_content([input_text])\n",
    "sql_query_2 = response.text\n",
    "\n",
    "print(\"Generated SQL Query:\", sql_query_2)"
   ]
  },
  {
   "cell_type": "code",
   "execution_count": 20,
   "metadata": {},
   "outputs": [],
   "source": [
    "# Remove the Markdown formatting\n",
    "sql_query_cleaned_2 = sql_query_2.replace(\"```sql\", \"\").replace(\"```\", \"\").strip()\n",
    "\n",
    "# Now the query is clean and can be executed"
   ]
  },
  {
   "cell_type": "code",
   "execution_count": 21,
   "metadata": {},
   "outputs": [
    {
     "data": {
      "text/plain": [
       "\"SELECT *\\nFROM employees\\nWHERE department = 'Engineering';\""
      ]
     },
     "execution_count": 21,
     "metadata": {},
     "output_type": "execute_result"
    }
   ],
   "source": [
    "sql_query_cleaned_2"
   ]
  },
  {
   "cell_type": "code",
   "execution_count": 22,
   "metadata": {},
   "outputs": [
    {
     "name": "stdout",
     "output_type": "stream",
     "text": [
      "(2, 'Bob', 25, 'Engineering')\n"
     ]
    }
   ],
   "source": [
    "import sqlite3\n",
    "\n",
    "# Connect to the database\n",
    "conn = sqlite3.connect('example_1.db')\n",
    "\n",
    "# Create a cursor object\n",
    "cursor = conn.cursor()\n",
    "\n",
    "# Execute the generated SQL query\n",
    "cursor.execute(sql_query_cleaned_2)\n",
    "\n",
    "# Fetch the results\n",
    "results = cursor.fetchall()\n",
    "\n",
    "# Display the results\n",
    "for row in results:\n",
    "    print(row)\n",
    "\n",
    "# Close the connection\n",
    "conn.close()\n"
   ]
  },
  {
   "cell_type": "code",
   "execution_count": null,
   "metadata": {},
   "outputs": [],
   "source": []
  }
 ],
 "metadata": {
  "kernelspec": {
   "display_name": "venv",
   "language": "python",
   "name": "python3"
  },
  "language_info": {
   "codemirror_mode": {
    "name": "ipython",
    "version": 3
   },
   "file_extension": ".py",
   "mimetype": "text/x-python",
   "name": "python",
   "nbconvert_exporter": "python",
   "pygments_lexer": "ipython3",
   "version": "3.11.5"
  }
 },
 "nbformat": 4,
 "nbformat_minor": 2
}
